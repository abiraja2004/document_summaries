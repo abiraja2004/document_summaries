{
 "cells": [
  {
   "cell_type": "code",
   "execution_count": 1,
   "metadata": {
    "collapsed": true
   },
   "outputs": [],
   "source": [
    "import nltk\n",
    "import numpy as np\n",
    "import string\n",
    "from itertools import combinations\n",
    "from nltk.corpus import brown"
   ]
  },
  {
   "cell_type": "code",
   "execution_count": 2,
   "metadata": {
    "collapsed": true
   },
   "outputs": [],
   "source": [
    "from nltk.corpus import stopwords\n",
    "stop = stopwords.words('english') + [i for i in string.punctuation]"
   ]
  },
  {
   "cell_type": "code",
   "execution_count": 3,
   "metadata": {
    "collapsed": true
   },
   "outputs": [],
   "source": [
    "summary_size = 5\n",
    "geom_p = 0.02"
   ]
  },
  {
   "cell_type": "code",
   "execution_count": 4,
   "metadata": {
    "collapsed": true
   },
   "outputs": [],
   "source": [
    "sentences = brown.sents('ca19')\n"
   ]
  },
  {
   "cell_type": "code",
   "execution_count": null,
   "metadata": {
    "collapsed": false
   },
   "outputs": [],
   "source": []
  },
  {
   "cell_type": "code",
   "execution_count": null,
   "metadata": {
    "collapsed": false
   },
   "outputs": [],
   "source": [
    "#baseline 1- Geometric Prior\n",
    "def geom(p, k):\n",
    "    return (1.0 - p)**k *p\n",
    "probs = np.array([geom(geom_p, i) for i in xrange(len(sentences))])\n",
    "probs = probs/sum(probs)\n",
    "summary = np.random.choice(xrange(len(sentences)),size = summary_size, replace = False, p= probs)"
   ]
  },
  {
   "cell_type": "code",
   "execution_count": null,
   "metadata": {
    "collapsed": false
   },
   "outputs": [],
   "source": [
    "summary"
   ]
  },
  {
   "cell_type": "code",
   "execution_count": null,
   "metadata": {
    "collapsed": false
   },
   "outputs": [],
   "source": [
    "#baseline 2- Take first sentence, then Geometric Prior\n",
    "def geom(p, k):\n",
    "    return (1.0 - p)**k *p\n",
    "probs = np.array([geom(geom_p, i) for i in xrange(1, len(sentences))])\n",
    "probs = probs/sum(probs)\n",
    "summary = np.random.choice(xrange(1, len(sentences)),size = summary_size, replace = False, p=probs)\n",
    "summary = np.append(0, summary)"
   ]
  },
  {
   "cell_type": "code",
   "execution_count": null,
   "metadata": {
    "collapsed": false
   },
   "outputs": [],
   "source": [
    "summry"
   ]
  },
  {
   "cell_type": "code",
   "execution_count": null,
   "metadata": {
    "collapsed": false
   },
   "outputs": [],
   "source": [
    "#baseline 3"
   ]
  },
  {
   "cell_type": "code",
   "execution_count": null,
   "metadata": {
    "collapsed": true
   },
   "outputs": [],
   "source": [
    "freqs = {}\n",
    "for sentence in sentences:\n",
    "    for word in sentence:\n",
    "        if word not in freqs:\n",
    "            freqs[word] = 1.0\n",
    "        else:\n",
    "            freqs[word] += 1.0"
   ]
  },
  {
   "cell_type": "code",
   "execution_count": null,
   "metadata": {
    "collapsed": false
   },
   "outputs": [],
   "source": [
    "summary = []\n",
    "summary_words = set()\n",
    "while len(summary) < summary_size:\n",
    "    sent_scores = [sum([freqs[word] for word in sentence if word not in summary_words])/len(sentence) for sentence in sentences]\n",
    "    selected = sent_scores.index(max(sent_scores))\n",
    "    summary.append(selected)\n",
    "    summary_words = summary_words.union(sentences[selected])\n",
    "\n"
   ]
  },
  {
   "cell_type": "code",
   "execution_count": null,
   "metadata": {
    "collapsed": false
   },
   "outputs": [],
   "source": [
    "for sent in sorted(summary):\n",
    "    print ' '.join(sentences[sent])"
   ]
  },
  {
   "cell_type": "code",
   "execution_count": null,
   "metadata": {
    "collapsed": false
   },
   "outputs": [],
   "source": [
    "summary"
   ]
  },
  {
   "cell_type": "code",
   "execution_count": null,
   "metadata": {
    "collapsed": false
   },
   "outputs": [],
   "source": [
    "sentences[91]"
   ]
  },
  {
   "cell_type": "code",
   "execution_count": null,
   "metadata": {
    "collapsed": true
   },
   "outputs": [],
   "source": []
  },
  {
   "cell_type": "code",
   "execution_count": 11,
   "metadata": {
    "collapsed": false
   },
   "outputs": [
    {
     "data": {
      "text/plain": [
       "[(u'The', 'DT'),\n",
       " (u'Baltimore', 'NNP'),\n",
       " (u'and', 'CC'),\n",
       " (u'Ohio', 'NNP'),\n",
       " (u'Railroad', 'NNP'),\n",
       " (u'announced', 'VBD'),\n",
       " (u'yesterday', 'NN'),\n",
       " (u'it', 'PRP'),\n",
       " (u'would', 'MD'),\n",
       " (u'reduce', 'VB'),\n",
       " (u'the', 'DT'),\n",
       " (u'total', 'JJ'),\n",
       " (u'amount', 'NN'),\n",
       " (u'of', 'IN'),\n",
       " (u'its', 'PRP$'),\n",
       " (u'payroll', 'NN'),\n",
       " (u'by', 'IN'),\n",
       " (u'10', 'CD'),\n",
       " (u'per', 'IN'),\n",
       " (u'cent', 'NN'),\n",
       " (u'through', 'IN'),\n",
       " (u'salary', 'NN'),\n",
       " (u'cuts', 'NNS'),\n",
       " (u'and', 'CC'),\n",
       " (u'lay-offs', 'NNS'),\n",
       " (u'effective', 'JJ'),\n",
       " (u'at', 'IN'),\n",
       " (u'12:01', 'CD'),\n",
       " (u'A.M.', 'NNP'),\n",
       " (u'next', 'JJ'),\n",
       " (u'Saturday', 'NNP'),\n",
       " (u'.', '.')]"
      ]
     },
     "execution_count": 11,
     "metadata": {},
     "output_type": "execute_result"
    }
   ],
   "source": [
    "nltk.pos_tag(sentences[0])"
   ]
  },
  {
   "cell_type": "code",
   "execution_count": 6,
   "metadata": {
    "collapsed": false
   },
   "outputs": [
    {
     "data": {
      "text/plain": [
       "[(u'The', u'AT-TL'),\n",
       " (u'Baltimore', u'NP'),\n",
       " (u'and', u'CC-TL'),\n",
       " (u'Ohio', u'NP'),\n",
       " (u'Railroad', u'NN-TL'),\n",
       " (u'announced', u'VBD'),\n",
       " (u'yesterday', u'NR'),\n",
       " (u'it', u'PPS'),\n",
       " (u'would', u'MD'),\n",
       " (u'reduce', u'VB'),\n",
       " (u'the', u'AT'),\n",
       " (u'total', u'NN'),\n",
       " (u'amount', u'VB'),\n",
       " (u'of', u'IN'),\n",
       " (u'its', u'PP$'),\n",
       " (u'payroll', u'NN'),\n",
       " (u'by', u'IN'),\n",
       " (u'10', u'CD'),\n",
       " (u'per', u'IN'),\n",
       " (u'cent', u'NN'),\n",
       " (u'through', u'IN'),\n",
       " (u'salary', u'NN'),\n",
       " (u'cuts', u'NNS'),\n",
       " (u'and', u'CC'),\n",
       " (u'lay-offs', u'NNS'),\n",
       " (u'effective', u'JJ'),\n",
       " (u'at', u'IN'),\n",
       " (u'12:01', u'CD'),\n",
       " (u'A.M.', u'RB'),\n",
       " (u'next', u'AP'),\n",
       " (u'Saturday', u'NR'),\n",
       " (u'.', u'.')]"
      ]
     },
     "execution_count": 6,
     "metadata": {},
     "output_type": "execute_result"
    }
   ],
   "source": [
    "brown.tagged_sents('ca19')[0]"
   ]
  },
  {
   "cell_type": "code",
   "execution_count": null,
   "metadata": {
    "collapsed": true
   },
   "outputs": [],
   "source": []
  }
 ],
 "metadata": {
  "kernelspec": {
   "display_name": "Python 2",
   "language": "python",
   "name": "python2"
  },
  "language_info": {
   "codemirror_mode": {
    "name": "ipython",
    "version": 2
   },
   "file_extension": ".py",
   "mimetype": "text/x-python",
   "name": "python",
   "nbconvert_exporter": "python",
   "pygments_lexer": "ipython2",
   "version": "2.7.10"
  }
 },
 "nbformat": 4,
 "nbformat_minor": 0
}
