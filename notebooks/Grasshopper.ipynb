{
 "cells": [
  {
   "cell_type": "code",
   "execution_count": 77,
   "metadata": {
    "collapsed": false
   },
   "outputs": [],
   "source": [
    "import nltk\n",
    "from nltk.corpus import brown\n",
    "import numpy as np"
   ]
  },
  {
   "cell_type": "code",
   "execution_count": 110,
   "metadata": {
    "collapsed": false
   },
   "outputs": [],
   "source": [
    "# Let us add the project package into the model, so we can share \n",
    "# code with iPython.\n",
    "import sys \n",
    "project_package = '/home/luis/Dropbox/OnlineDocuments/HarvardSchoolWork/Fall2015/cs182/project/'\n",
    "if project_package not in sys.path:\n",
    "    sys.path.append(project_package)\n",
    "from shared import utils\n",
    "from grasshopper import model as GH"
   ]
  },
  {
   "cell_type": "code",
   "execution_count": 125,
   "metadata": {
    "collapsed": false
   },
   "outputs": [
    {
     "data": {
      "text/plain": [
       "<module 'shared.utils' from '/home/luis/Dropbox/OnlineDocuments/HarvardSchoolWork/Fall2015/cs182/project/shared/utils.pyc'>"
      ]
     },
     "execution_count": 125,
     "metadata": {},
     "output_type": "execute_result"
    }
   ],
   "source": [
    "reload(GH)\n",
    "reload(utils)"
   ]
  },
  {
   "cell_type": "code",
   "execution_count": 126,
   "metadata": {
    "collapsed": false
   },
   "outputs": [],
   "source": [
    "original = brown.sents('ca19')\n",
    "cleanDoc, mapping = utils.cleanDocument(original)\n",
    "W = GH.docToMatrix(original, sim_fun=utils.cosineSim)\n",
    "WClean = GH.docToMatrix(cleanDoc, sim_fun=utils.cosineSim)"
   ]
  },
  {
   "cell_type": "code",
   "execution_count": 127,
   "metadata": {
    "collapsed": false
   },
   "outputs": [],
   "source": [
    "r = np.ones(len(W))\n",
    "r = r / np.sum(r)\n",
    "lsum = 5\n",
    "lamb = 1.0\n",
    "results = GH.grasshopper(W, r, lamb, lsum)"
   ]
  },
  {
   "cell_type": "code",
   "execution_count": 128,
   "metadata": {
    "collapsed": false,
    "scrolled": true
   },
   "outputs": [],
   "source": [
    "r = np.ones(len(WClean)) / len(WClean)\n",
    "resultsClean = GH.grasshopper(WClean, r, lamb, lsum)"
   ]
  },
  {
   "cell_type": "code",
   "execution_count": 129,
   "metadata": {
    "collapsed": false
   },
   "outputs": [
    {
     "name": "stdout",
     "output_type": "stream",
     "text": [
      "[(1, 0.0088495575221239735), (70, 0.77597982933701826), (102, 0.77079185117634308), (2, 0.7595610384224718), (18, 0.76076853879791617)]\n",
      "[(89, 0.008928571428571612), (0, 0.68978929947363266), (92, 0.64265004572368112), (37, 0.64358354257179529), (6, 0.63050721303451929)]\n"
     ]
    }
   ],
   "source": [
    "print results\n",
    "print resultsClean"
   ]
  },
  {
   "cell_type": "code",
   "execution_count": 130,
   "metadata": {
    "collapsed": false
   },
   "outputs": [
    {
     "name": "stdout",
     "output_type": "stream",
     "text": [
      "The Baltimore and Ohio Railroad announced yesterday it would reduce the total amount of its payroll by 10 per cent through salary cuts and lay-offs effective at 12:01 A.M. next Saturday .\n",
      "A flat reduction of 10 per cent in the salary of all officers , supervisors and other employees not belonging to unions .\n",
      "For a number of years the board used a machine to keep a permanent record but abandoned the practice about two years ago .\n",
      "Dodge reported the following breakdown :\n",
      "and heavy engineering at $9,841,000 , down 45 per cent .\n"
     ]
    }
   ],
   "source": [
    "for (i, p) in sorted(resultsClean, key=lambda x: x[0]):\n",
    "    print ' '.join(brown.sents('ca19')[i])"
   ]
  },
  {
   "cell_type": "code",
   "execution_count": 131,
   "metadata": {
    "collapsed": false
   },
   "outputs": [
    {
     "name": "stdout",
     "output_type": "stream",
     "text": [
      "The current monthly payroll comes to about $15,000,000 .\n",
      "Howard E. Simpson , the railroad's president , said , `` A drastic decline in freight loading due principally to the severe slump in the movement of heavy goods has necessitated this regrettable action '' .\n",
      "In another attack , Samuel Verstandig , 41 , proprietor of a food store in the 2100 block Aiken Street , told police two Negroes assaulted him in his store and stole $150 from the cash register after choking and beating him .\n",
      "Soon after 10 A.M. , when police reached the 1-1/2-story brick home in the Franklin Manor section , 15 miles south of here on the bay , in response to a call from the Dresbach's other son , Lee , 14 , they found Mrs. Dresbach's body on the first-floor bedroom floor .\n",
      "Although economic and personal circumstances vary widely among those now choosing apartments , Leo J. Pantas , vice president of a hardware manufacturing company , pointed out recently that many apartment seekers seem to have one characteristic in common : a desire for greater convenience and freedom from the problems involved in maintaining a house .\n"
     ]
    }
   ],
   "source": [
    "for (i, p) in sorted(results, key=lambda x: x[0]):\n",
    "    print ' '.join(brown.sents('ca19')[i])"
   ]
  },
  {
   "cell_type": "code",
   "execution_count": null,
   "metadata": {
    "collapsed": true
   },
   "outputs": [],
   "source": []
  }
 ],
 "metadata": {
  "kernelspec": {
   "display_name": "Python 2",
   "language": "python",
   "name": "python2"
  },
  "language_info": {
   "codemirror_mode": {
    "name": "ipython",
    "version": 2
   },
   "file_extension": ".py",
   "mimetype": "text/x-python",
   "name": "python",
   "nbconvert_exporter": "python",
   "pygments_lexer": "ipython2",
   "version": "2.7.10"
  }
 },
 "nbformat": 4,
 "nbformat_minor": 0
}
