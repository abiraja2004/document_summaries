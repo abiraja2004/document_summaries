{
 "cells": [
  {
   "cell_type": "code",
   "execution_count": 2,
   "metadata": {
    "collapsed": false
   },
   "outputs": [],
   "source": [
    "import nltk\n",
    "from nltk.corpus import brown\n",
    "import numpy as np"
   ]
  },
  {
   "cell_type": "code",
   "execution_count": 3,
   "metadata": {
    "collapsed": false
   },
   "outputs": [],
   "source": [
    "# Let us add the project package into the model, so we can share \n",
    "# code with iPython.\n",
    "import sys \n",
    "project_package = '/home/luis/Dropbox/OnlineDocuments/HarvardSchoolWork/Fall2015/cs182/project/'\n",
    "if project_package not in sys.path:\n",
    "    sys.path.append(project_package)\n",
    "from shared import utils\n",
    "from grasshopper import model as GH"
   ]
  },
  {
   "cell_type": "code",
   "execution_count": 41,
   "metadata": {
    "collapsed": false
   },
   "outputs": [
    {
     "data": {
      "text/plain": [
       "<module 'shared.utils' from '/home/luis/Dropbox/OnlineDocuments/HarvardSchoolWork/Fall2015/cs182/project/shared/utils.pyc'>"
      ]
     },
     "execution_count": 41,
     "metadata": {},
     "output_type": "execute_result"
    }
   ],
   "source": [
    "reload(GH)\n",
    "reload(utils)"
   ]
  },
  {
   "cell_type": "code",
   "execution_count": 9,
   "metadata": {
    "collapsed": false
   },
   "outputs": [],
   "source": [
    "original = brown.sents('ca19')\n",
    "cleanDoc, mapping = utils.cleanDocument(original)\n",
    "W = GH.docToMatrix(original, sim_fun=utils.cosineSim)\n",
    "WClean = GH.docToMatrix(cleanDoc, sim_fun=utils.cosineSim)"
   ]
  },
  {
   "cell_type": "code",
   "execution_count": 10,
   "metadata": {
    "collapsed": false
   },
   "outputs": [],
   "source": [
    "# According to the paper, alpha = 0.25 and lambda = 0.5 where the \n",
    "# best parameters\n",
    "lamb = 0.5\n",
    "alpha = 0.25\n",
    "r = utils.decayDistribution(alpha, len(W))\n",
    "lsum = 5\n",
    "results = GH.grasshopper(W, r, lamb, lsum)"
   ]
  },
  {
   "cell_type": "code",
   "execution_count": 11,
   "metadata": {
    "collapsed": false,
    "scrolled": true
   },
   "outputs": [],
   "source": [
    "rClean = utils.decayDistribution(alpha, len(WClean))\n",
    "resultsClean = GH.grasshopper(WClean, rClean, lamb, lsum)"
   ]
  },
  {
   "cell_type": "code",
   "execution_count": 13,
   "metadata": {
    "collapsed": false
   },
   "outputs": [
    {
     "name": "stdout",
     "output_type": "stream",
     "text": [
      "[(0, (0.015497071508764865+0j)), (102, 0.80360672696601831), (112, 0.79798967636799589), (101, 0.79652141447876801), (70, 0.79536920454736371)]\n",
      "[(1, (0.017308867439736603-0j)), (37, 0.83458070810922114), (50, 0.81806194866979443), (48, 0.80492121346789014), (9, 0.80480230529447583)]\n"
     ]
    }
   ],
   "source": [
    "print results\n",
    "print resultsClean"
   ]
  },
  {
   "cell_type": "code",
   "execution_count": 14,
   "metadata": {
    "collapsed": false
   },
   "outputs": [
    {
     "name": "stdout",
     "output_type": "stream",
     "text": [
      "The current monthly payroll comes to about $15,000,000 .\n",
      "Sufficient lay-offs of union employees to bring about a 10 per cent cut in the union payroll expense .\n",
      "For a number of years the board used a machine to keep a permanent record but abandoned the practice about two years ago .\n",
      "The vice president of the City Council complained yesterday that there are `` deficiencies '' in the city's snow clearing program which should be corrected as soon as possible .\n",
      "Werner criticized\n"
     ]
    }
   ],
   "source": [
    "for (i, p) in sorted(resultsClean, key=lambda x: x[0]):\n",
    "    print ' '.join(brown.sents('ca19')[i])"
   ]
  },
  {
   "cell_type": "code",
   "execution_count": 15,
   "metadata": {
    "collapsed": false
   },
   "outputs": [
    {
     "name": "stdout",
     "output_type": "stream",
     "text": [
      "The Baltimore and Ohio Railroad announced yesterday it would reduce the total amount of its payroll by 10 per cent through salary cuts and lay-offs effective at 12:01 A.M. next Saturday .\n",
      "Soon after 10 A.M. , when police reached the 1-1/2-story brick home in the Franklin Manor section , 15 miles south of here on the bay , in response to a call from the Dresbach's other son , Lee , 14 , they found Mrs. Dresbach's body on the first-floor bedroom floor .\n",
      "While availability of mortgage money has been a factor in encouraging apartment construction , the generally high level of prosperity in the past few years plus rising consumer income are among the factors that have encouraged builders to concentrate in the apartment-building field .\n",
      "Although economic and personal circumstances vary widely among those now choosing apartments , Leo J. Pantas , vice president of a hardware manufacturing company , pointed out recently that many apartment seekers seem to have one characteristic in common : a desire for greater convenience and freedom from the problems involved in maintaining a house .\n",
      "Construction in 1962 will account for about 15 per cent of the gross national product , according to a study by Johns-Manville Corporation .\n"
     ]
    }
   ],
   "source": [
    "for (i, p) in sorted(results, key=lambda x: x[0]):\n",
    "    print ' '.join(brown.sents('ca19')[i])"
   ]
  },
  {
   "cell_type": "code",
   "execution_count": 19,
   "metadata": {
    "collapsed": false,
    "scrolled": true
   },
   "outputs": [],
   "source": [
    "W1 = GH.docToMatrix(cleanDoc, vec_fun=utils.logFrequency, sim_fun=utils.threshHoldCosineSim)\n",
    "W2 = GH.docToMatrix(cleanDoc, vec_fun=utils.frequency, sim_fun=utils.threshHoldCosineSim)"
   ]
  },
  {
   "cell_type": "code",
   "execution_count": 21,
   "metadata": {
    "collapsed": false
   },
   "outputs": [
    {
     "data": {
      "text/plain": [
       "array([[ 0.09522161,  0.02631579,  0.        , ...,  0.        ,\n",
       "         0.        ,  0.11461988],\n",
       "       [ 0.02631579,  0.34375   ,  0.        , ...,  0.        ,\n",
       "         0.        ,  0.        ],\n",
       "       [ 0.        ,  0.        ,  0.24314703, ...,  0.        ,\n",
       "         0.        ,  0.        ],\n",
       "       ..., \n",
       "       [ 0.        ,  0.        ,  0.        , ...,  0.2627551 ,\n",
       "         0.        ,  0.02857143],\n",
       "       [ 0.        ,  0.        ,  0.        , ...,  0.        ,\n",
       "         0.15625   ,  0.        ],\n",
       "       [ 0.11461988,  0.        ,  0.        , ...,  0.02857143,\n",
       "         0.        ,  0.21975309]])"
      ]
     },
     "execution_count": 21,
     "metadata": {},
     "output_type": "execute_result"
    }
   ],
   "source": [
    "W2"
   ]
  },
  {
   "cell_type": "code",
   "execution_count": 23,
   "metadata": {
    "collapsed": false
   },
   "outputs": [],
   "source": [
    "results1 = GH.grasshopper(W1, rClean, lamb, lsum)\n",
    "results2 = GH.grasshopper(W2, rClean, lamb, lsum)"
   ]
  },
  {
   "cell_type": "code",
   "execution_count": 24,
   "metadata": {
    "collapsed": false
   },
   "outputs": [
    {
     "data": {
      "text/plain": [
       "([(1, (0.017127102147263807-0j)),\n",
       "  (26, 0.72523876747911331),\n",
       "  (32, 0.71124544009738178),\n",
       "  (37, 0.71265329939339295),\n",
       "  (25, 0.70756935891690442)],\n",
       " [(1, (0.017317129974008406+0j)),\n",
       "  (37, 0.83573162991964156),\n",
       "  (50, 0.82023080917626234),\n",
       "  (48, 0.8065918172806692),\n",
       "  (9, 0.80647256755748287)])"
      ]
     },
     "execution_count": 24,
     "metadata": {},
     "output_type": "execute_result"
    }
   ],
   "source": [
    "results1, results2"
   ]
  },
  {
   "cell_type": "code",
   "execution_count": 25,
   "metadata": {
    "collapsed": false
   },
   "outputs": [
    {
     "name": "stdout",
     "output_type": "stream",
     "text": [
      "The current monthly payroll comes to about $15,000,000 .\n",
      "His condition was reported to be fair .\n",
      "Police said the children's mother , Mrs. Eleanor Somerville , was visiting next door when the fire occurred .\n",
      "Cites discrepancies\n",
      "For a number of years the board used a machine to keep a permanent record but abandoned the practice about two years ago .\n"
     ]
    }
   ],
   "source": [
    "for (i, p) in sorted(results1, key=lambda x: x[0]):\n",
    "    print ' '.join(brown.sents('ca19')[i])"
   ]
  },
  {
   "cell_type": "code",
   "execution_count": 26,
   "metadata": {
    "collapsed": false
   },
   "outputs": [
    {
     "name": "stdout",
     "output_type": "stream",
     "text": [
      "The current monthly payroll comes to about $15,000,000 .\n",
      "Sufficient lay-offs of union employees to bring about a 10 per cent cut in the union payroll expense .\n",
      "For a number of years the board used a machine to keep a permanent record but abandoned the practice about two years ago .\n",
      "The vice president of the City Council complained yesterday that there are `` deficiencies '' in the city's snow clearing program which should be corrected as soon as possible .\n",
      "Werner criticized\n"
     ]
    }
   ],
   "source": [
    "for (i, p) in sorted(results2, key=lambda x: x[0]):\n",
    "    print ' '.join(brown.sents('ca19')[i])"
   ]
  },
  {
   "cell_type": "code",
   "execution_count": 2,
   "metadata": {
    "collapsed": true
   },
   "outputs": [],
   "source": [
    "def createSummaries(sum_algo, abs_path, out_path, multiDocument = False, k = 5):\n",
    "    # Extracted from the input folder name \n",
    "    setID = abs_path.split(\"/\")[-1]\n",
    "    \n",
    "    # Stores DocumentIDs\n",
    "    docIDs = []\n",
    "    \n",
    "    # Create document set that we wish to evaluate\n",
    "    D = []\n",
    "    for filename in os.listdir(abs_path):\n",
    "        # Only take files that we've parsed before!\n",
    "        tmp = filename.split('.')\n",
    "        if tmp[0] == 'parsed':\n",
    "            docIDs.append(tmp[1])\n",
    "            filepath = os.path.join(abs_path, filename)\n",
    "            with open(filepath) as inputDoc:\n",
    "                D.append(inputDoc.readlines())\n",
    "            \n",
    "    # Pass this to the algorithm which should return the summary as\n",
    "    # a list of sentences.\n",
    "    if multiDocument:\n",
    "        summary = sum_algo(D, k, multiDocument)\n",
    "        # Write out the summary\n",
    "        filepath = os.path.join(out_path, \"Summary.{}.txt\".format(setID))\n",
    "        print filepath\n",
    "        with open(filepath, 'w') as out:\n",
    "            for s in summary:\n",
    "                out.write(\"{}.\\n\".format(s.strip()))\n",
    "    else:\n",
    "        for i in range(len(D)):\n",
    "            summary = sum_algo([D[i]], k)\n",
    "            filepath = os.path.join(out_path, \"Summary.{}.txt\".format(docIDs[i]))\n",
    "            print filepath\n",
    "            with open(filepath, 'w') as out:\n",
    "                for s in summary:\n",
    "                    out.write(\"{}.\\n\".format(s.strip()))"
   ]
  },
  {
   "cell_type": "code",
   "execution_count": 3,
   "metadata": {
    "collapsed": true
   },
   "outputs": [],
   "source": [
    "# Just doing it for multiple documents\n",
    "def grassHopper(D, k, multiDocument):\n",
    "    # Concatenate into one big document if possible!\n",
    "    original = [s for d in D for s in d]\n",
    "    cleanDoc, mapping = utils.cleanDocument(original)\n",
    "    WClean = GH.docToMatrix(cleanDoc, sim_fun=utils.threshHoldCosineSim)\n",
    "    \n",
    "    lamb = 0.5\n",
    "    alpha = 0.25\n",
    "    r = utils.decayDistribution(alpha, len(WClean))\n",
    "    resultsClean = GH.grasshopper(WClean, r, lamb, k)\n",
    "    \n",
    "    summary = []\n",
    "    for (i, p) in sorted(resultsClean, key=lambda x: x[0]):\n",
    "        summary.append(original[i])\n",
    "        \n",
    "    return summary"
   ]
  },
  {
   "cell_type": "code",
   "execution_count": null,
   "metadata": {
    "collapsed": true
   },
   "outputs": [],
   "source": []
  }
 ],
 "metadata": {
  "kernelspec": {
   "display_name": "Python 2",
   "language": "python",
   "name": "python2"
  },
  "language_info": {
   "codemirror_mode": {
    "name": "ipython",
    "version": 2
   },
   "file_extension": ".py",
   "mimetype": "text/x-python",
   "name": "python",
   "nbconvert_exporter": "python",
   "pygments_lexer": "ipython2",
   "version": "2.7.10"
  }
 },
 "nbformat": 4,
 "nbformat_minor": 0
}
